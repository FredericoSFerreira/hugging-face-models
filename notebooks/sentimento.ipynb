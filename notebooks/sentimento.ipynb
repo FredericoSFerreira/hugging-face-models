{
 "cells": [
  {
   "cell_type": "markdown",
   "id": "37da7536-619c-45f5-9035-501b6182f3e0",
   "metadata": {},
   "source": [
    "# Projeto - Sentimento\n",
    "\n",
    "Projeto que realiza a análise de sentimentos utilizando um modelo baseado em BERT (versão destilada) para análise de sentimento.\n",
    "\n",
    "Autor original: Frederico.\n",
    "\n",
    "Readaptação: Vinícius."
   ]
  },
  {
   "cell_type": "markdown",
   "id": "a7c80df2-06b3-4b47-b317-b6b20c722ac0",
   "metadata": {},
   "source": [
    "## O Modelo\n",
    "\n",
    "Aqui nós carregaremos um modelo refinado (fine tuned) pelo usuário `lxyuan`. Lembrando que esse modelo se baseia no modelo DistilBERT.\n",
    "\n",
    "### O que é o BERT?\n",
    "\n",
    "![BERT model](static/bert-1.png \"BERT model\")\n",
    "\n",
    "Bidirectional Encoder Representations from Transformers, ou seja, simplesmente BERT é um modelo que pega somente a parte de encoder da arquitetura Transformers para realizar a transformação de tokens.\n",
    "\n",
    "De acordo com o paper do BERT, foi utilizado dataset de Q&A para treinamento, assim sentenças tinham palavras aleatoriamentes removidas para com que o modelo descubrar de acordo com treinamento as palavras corretas que se encaixariam com base nos inputs.\n",
    "\n",
    "Pode-se ser dito que esse modelo foi feito para responder questões gerais ou específicas de quaisquer contextos.\n",
    "\n",
    "### E o que é o DistilBERT\n",
    "\n",
    "O DistilBERT é uma variação de BERT que utiliza a técnica de aprendizagem teacher-student learning, assim o modelo fica \"comprimido\".\n",
    "\n",
    "Para chegar nesse resultado foi necessário utilizar um modelo maior (BERT) e assim foi realizado um treinamento zero-shot para chegar nesse resultado final.\n",
    "\n",
    "Caso queira saber mais, acesse o Hugging Face de `lxyuan`.\n",
    "\n",
    "### Como que o DistilBERT pode ser utilizado para classificação?\n",
    "\n",
    "Realizando um fine-tuning com a adiação de uma camada densa (feed-forward) após o DistilBERT, nós podemos forçar um output de um perceptron que retornará entre [0-1]."
   ]
  },
  {
   "cell_type": "code",
   "execution_count": 4,
   "id": "aa2ac571-754b-4ba6-bd5f-82954358d62c",
   "metadata": {},
   "outputs": [
    {
     "name": "stderr",
     "output_type": "stream",
     "text": [
      "Device set to use mps:0\n"
     ]
    }
   ],
   "source": [
    "from transformers import pipeline\n",
    "\n",
    "pipe = pipeline(\"text-classification\", model=\"lxyuan/distilbert-base-multilingual-cased-sentiments-student\")"
   ]
  },
  {
   "cell_type": "markdown",
   "id": "0a306907-24a6-428c-9531-318618966a9f",
   "metadata": {},
   "source": [
    "## Montando Dataset"
   ]
  },
  {
   "cell_type": "code",
   "execution_count": 5,
   "id": "66852395-fac9-4b80-b0bc-4be30299c971",
   "metadata": {},
   "outputs": [],
   "source": [
    "reviews = [\n",
    "    \"Comprei essa Smart TV de 60 e estou impressionado com a nitidez e o brilho. Os filmes parecem cinema em casa! A integração com os apps de streaming é perfeita.\",\n",
    "    \"Áudio potente, sistema rápido e visual elegante. Fácil de instalar e configurar. Amei o espelhamento com o celular!\",\n",
    "    \"Uso com meu PS5 e o desempenho é sensacional. Baixo input lag e suporte a 4K HDR. Só não dei 5 estrelas porque o controle poderia ter teclas iluminadas.\",\n",
    "    \"A imagem é boa, o tamanho impressiona, mas o sistema operacional é meio travado às vezes. Demora um pouco para abrir apps como Netflix e YouTube.\",\n",
    "    \"Entrega o básico bem, mas o controle remoto é simples demais e o som deixa a desejar. Para quem só quer assistir streaming, serve.\",\n",
    "    \"TV grande e bonita, mas a loja de aplicativos é limitada. Não encontrei alguns apps que uso com frequência. Esperava mais nesse quesito.\",\n",
    "    \"A imagem é linda, mas o sistema trava muito. Já precisei reiniciar várias vezes só pra conseguir abrir o YouTube.\",\n",
    "    \"Precisei conectar uma soundbar porque o áudio é bem fraco. Além disso, a conexão Wi-Fi cai com frequência, mesmo com sinal forte.\",\n",
    "    \"Com menos de um mês de uso, a TV começou a apresentar linhas na tela. O suporte da marca foi demorado e pouco eficaz.\",\n",
    "    \"A TV parece boa nas especificações, mas o sistema é lento, trava e o controle remoto parou de funcionar em menos de uma semana.\"\n",
    "]"
   ]
  },
  {
   "cell_type": "markdown",
   "id": "b21a08f7-7a74-41d3-8223-78aa9c855f31",
   "metadata": {},
   "source": [
    "## Testando o modelo"
   ]
  },
  {
   "cell_type": "code",
   "execution_count": 6,
   "id": "f9041ff6-78d9-4c69-b748-c697e90f6d43",
   "metadata": {},
   "outputs": [
    {
     "name": "stdout",
     "output_type": "stream",
     "text": [
      "Avaliação: Comprei essa Smart TV de 60 e estou impressionado com a nitidez e o brilho. Os filmes parecem cinema em casa! A integração com os apps de streaming é perfeita.\n",
      "[{'label': 'positive', 'score': 0.8699895739555359}]\n",
      "Avaliação: Áudio potente, sistema rápido e visual elegante. Fácil de instalar e configurar. Amei o espelhamento com o celular!\n",
      "[{'label': 'positive', 'score': 0.9443075656890869}]\n",
      "Avaliação: Uso com meu PS5 e o desempenho é sensacional. Baixo input lag e suporte a 4K HDR. Só não dei 5 estrelas porque o controle poderia ter teclas iluminadas.\n",
      "[{'label': 'positive', 'score': 0.5547659993171692}]\n",
      "Avaliação: A imagem é boa, o tamanho impressiona, mas o sistema operacional é meio travado às vezes. Demora um pouco para abrir apps como Netflix e YouTube.\n",
      "[{'label': 'positive', 'score': 0.6569806933403015}]\n",
      "Avaliação: Entrega o básico bem, mas o controle remoto é simples demais e o som deixa a desejar. Para quem só quer assistir streaming, serve.\n",
      "[{'label': 'negative', 'score': 0.4474709928035736}]\n",
      "Avaliação: TV grande e bonita, mas a loja de aplicativos é limitada. Não encontrei alguns apps que uso com frequência. Esperava mais nesse quesito.\n",
      "[{'label': 'positive', 'score': 0.47962793707847595}]\n",
      "Avaliação: A imagem é linda, mas o sistema trava muito. Já precisei reiniciar várias vezes só pra conseguir abrir o YouTube.\n",
      "[{'label': 'positive', 'score': 0.4646795392036438}]\n",
      "Avaliação: Precisei conectar uma soundbar porque o áudio é bem fraco. Além disso, a conexão Wi-Fi cai com frequência, mesmo com sinal forte.\n",
      "[{'label': 'negative', 'score': 0.5551320314407349}]\n",
      "Avaliação: Com menos de um mês de uso, a TV começou a apresentar linhas na tela. O suporte da marca foi demorado e pouco eficaz.\n",
      "[{'label': 'negative', 'score': 0.4285386800765991}]\n",
      "Avaliação: A TV parece boa nas especificações, mas o sistema é lento, trava e o controle remoto parou de funcionar em menos de uma semana.\n",
      "[{'label': 'positive', 'score': 0.40888461470603943}]\n"
     ]
    }
   ],
   "source": [
    "for review in reviews:\n",
    "    print('Avaliação:', review)\n",
    "    resultado = pipe(review)\n",
    "    print(resultado)"
   ]
  },
  {
   "cell_type": "code",
   "execution_count": null,
   "id": "f2ca09ef-d517-4863-a3d9-3370cea4be8f",
   "metadata": {},
   "outputs": [],
   "source": []
  }
 ],
 "metadata": {
  "kernelspec": {
   "display_name": "Python 3 (ipykernel)",
   "language": "python",
   "name": "python3"
  },
  "language_info": {
   "codemirror_mode": {
    "name": "ipython",
    "version": 3
   },
   "file_extension": ".py",
   "mimetype": "text/x-python",
   "name": "python",
   "nbconvert_exporter": "python",
   "pygments_lexer": "ipython3",
   "version": "3.9.6"
  }
 },
 "nbformat": 4,
 "nbformat_minor": 5
}
